{
 "cells": [
  {
   "cell_type": "code",
   "execution_count": 1,
   "id": "b4ecd0d8-e504-40e8-982d-464d4e0b878e",
   "metadata": {},
   "outputs": [],
   "source": [
    "# Import modules\n",
    "import datetime"
   ]
  },
  {
   "cell_type": "code",
   "execution_count": 3,
   "id": "0a05d79f-fe99-4252-839e-93c5ad7c4403",
   "metadata": {},
   "outputs": [
    {
     "name": "stdout",
     "output_type": "stream",
     "text": [
      "Hello world, today is 2022-05-02T14:58:49.204602\n"
     ]
    }
   ],
   "source": [
    "# Get current time\n",
    "current_time = datetime.datetime.now()\n",
    "print(\"Hello world, today is\", current_time.isoformat())"
   ]
  },
  {
   "cell_type": "code",
   "execution_count": null,
   "id": "b58399a8-d6c5-445b-8612-05ac0d517d7d",
   "metadata": {},
   "outputs": [],
   "source": []
  }
 ],
 "metadata": {
  "kernelspec": {
   "display_name": "Python 3 (ipykernel)",
   "language": "python",
   "name": "python3"
  },
  "language_info": {
   "codemirror_mode": {
    "name": "ipython",
    "version": 3
   },
   "file_extension": ".py",
   "mimetype": "text/x-python",
   "name": "python",
   "nbconvert_exporter": "python",
   "pygments_lexer": "ipython3",
   "version": "3.9.7"
  }
 },
 "nbformat": 4,
 "nbformat_minor": 5
}
